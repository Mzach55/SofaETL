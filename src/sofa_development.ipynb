{
 "cells": [
  {
   "cell_type": "code",
   "execution_count": 1,
   "metadata": {},
   "outputs": [],
   "source": [
    "from endpoints import SofaScore\n",
    "from datetime import datetime, timedelta\n",
    "from helpers import send_request, generate_date_list, generate_live_games, fetch_event_data\n",
    "import pandas as pd\n",
    "import matplotlib.pyplot as plt\n",
    "\n",
    "\n",
    "# Establish todays date\n",
    "start_date = datetime.today().strftime('%Y-%m-%d')\n",
    "\n",
    "# start_date = '2023-01-20'\n",
    "\n",
    "# Establish an end date\n",
    "end_date = '2023-01-01'\n",
    "\n",
    "# Generate a list of dates\n",
    "dates = generate_date_list(start_date,end_date)\n",
    "\n",
    "# Create a list of endpoints from the list of dates and the Sofa base_endpoint\n",
    "dated_endpoints = [SofaScore.BASE_ENDPOINT + date for date in dates]\n",
    "\n"
   ]
  },
  {
   "cell_type": "code",
   "execution_count": 2,
   "metadata": {},
   "outputs": [],
   "source": [
    "from helpers import send_request, generate_date_list, generate_live_games, fetch_event_data\n",
    "\n",
    "# store list of responses from the urls\n",
    "responses = [response for response in await fetch_event_data(dated_endpoints) if response['events']]\n"
   ]
  },
  {
   "cell_type": "code",
   "execution_count": 3,
   "metadata": {},
   "outputs": [],
   "source": [
    "def extract_event_data(response_array):\n",
    "\n",
    "    # Initialize an empty list to store the event data\n",
    "    event_data = []\n",
    "\n",
    "    for response in response_array:\n",
    "        # Filter out events that are not postponed\n",
    "\n",
    "        events = [event for event in response['events'] if event['status']['type'] not in ['postponed', 'canceled']]\n",
    "        \n",
    "        # Loop through each event\n",
    "        for event in events:   \n",
    "                    \n",
    "            # sometime score dicts have multiple scores, so just take max value; they should be same. \n",
    "            score_key = max(event['homeScore'], key = event['homeScore'].get) if event['homeScore'] else None\n",
    "            \n",
    "            # if no score obj, then skip\n",
    "            if score_key:\n",
    "                # Create a dictionary to store the relevant data for each event\n",
    "                struct = {\n",
    "                    'tournament' : event['tournament']['name'],  # Name of the tournament\n",
    "                    'region' : event['tournament']['category']['name'],  # Region of the tournament\n",
    "                    'home_team' : event['homeTeam']['name'],  # Name of the home team\n",
    "                    'away_team' : event['awayTeam']['name'],  # Name of the away team\n",
    "                    'home_score': event['homeScore'][score_key],  # Current score of the home team\n",
    "                    'away_score': event['awayScore'][score_key],  # Current score of the away team\n",
    "                    'total'     : event['homeScore'][score_key] + event['awayScore'][score_key],  # Total score\n",
    "                    'start_timeestamp' : event['startTimestamp'],  # Start timestamp of the event\n",
    "                    'game_id' : event['id'] # Unique Game ID\n",
    "                    # 'start_datetime' : convert_timestamp_to_est_date(event['startTimestamp'])  # Start datetime of the event in EST\n",
    "                }\n",
    "                \n",
    "                # Append the dictionary to the list of event data\n",
    "                event_data.append(struct)\n",
    "    \n",
    "    # Return the list of event data\n",
    "    return event_data"
   ]
  },
  {
   "cell_type": "code",
   "execution_count": 4,
   "metadata": {},
   "outputs": [],
   "source": [
    "event_data = extract_event_data(responses)"
   ]
  },
  {
   "cell_type": "code",
   "execution_count": 5,
   "metadata": {},
   "outputs": [],
   "source": [
    "# create endpoints to each specific games statistics data\n",
    "\n",
    "from endpoints import SofaScore\n",
    "\n",
    "def extract_specific_stats(events):\n",
    "    unique_id_urls = []\n",
    "    for games in events:\n",
    "        game_id_url = SofaScore.STAT_ENDPOINT.replace('UNIQUEGAMEID', str(games['game_id']))\n",
    "        unique_id_urls.append(game_id_url)\n",
    "    \n",
    "\n",
    "\n",
    "    return unique_id_urls\n",
    "\n",
    "stat_id_urls = extract_specific_stats(event_data)"
   ]
  },
  {
   "cell_type": "code",
   "execution_count": 6,
   "metadata": {},
   "outputs": [],
   "source": [
    "# Function to gather each games individual response\n",
    "\n",
    "from endpoints import SofaScore\n",
    "\n",
    "def extract_specific_games(events):\n",
    "    game_urls = []\n",
    "\n",
    "    for games in events:\n",
    "        game_url = SofaScore.INDIVIDUAL_ENDPOINT + str(games['game_id'])\n",
    "        game_urls.append(game_url)\n",
    "    \n",
    "    return game_urls\n",
    "\n",
    "individual_game_urls = extract_specific_games(event_data)"
   ]
  },
  {
   "cell_type": "code",
   "execution_count": 7,
   "metadata": {},
   "outputs": [],
   "source": [
    "# Fetch indivudal game data if it has the 'hasXg' present in the response\n",
    "\n",
    "individual_responses = [indRep for indRep in await fetch_event_data(individual_game_urls[:500]) if 'hasXg' in indRep['event']]\n",
    "\n"
   ]
  },
  {
   "cell_type": "code",
   "execution_count": 8,
   "metadata": {},
   "outputs": [
    {
     "name": "stdout",
     "output_type": "stream",
     "text": [
      "134\n"
     ]
    }
   ],
   "source": [
    "print(len(individual_responses))"
   ]
  },
  {
   "cell_type": "code",
   "execution_count": 9,
   "metadata": {},
   "outputs": [],
   "source": [
    "# Iterate over individual game data to gather dictionary for SofaScores expectations on the game\n",
    "\n",
    "def expectations_from_stats(stat_responses):\n",
    "    expectations_response = []\n",
    "    \n",
    "    for response in stat_responses:\n",
    "        if 'statistics' in response:\n",
    "            for stats in response['statistics']:\n",
    "                for groups in stats['groups']:\n",
    "                    for expectations in groups['statisticsItems']:\n",
    "                        if expectations['name'] == 'Expected goals':\n",
    "                            struct = {\n",
    "                                'type_of_stat' : expectations['name'],  # Name of the tournament\n",
    "                                'home_team_expectation' : expectations['home'],  # Name of the home team\n",
    "                                'away_team_expectation' : expectations['away'],  # Name of the away team\n",
    "                            }\n",
    "                            \n",
    "                            expectations_response.append(struct)\n",
    "                        else:\n",
    "                            continue\n",
    "    \n",
    "    return expectations_response\n",
    "\n",
    "\n",
    "                "
   ]
  },
  {
   "cell_type": "code",
   "execution_count": 21,
   "metadata": {},
   "outputs": [],
   "source": [
    "\n",
    "# Function to gather game data + data from the statistics API. Different from extract_event_data\n",
    "\n",
    "import time\n",
    "\n",
    "\n",
    "async def extract_data_with_xg(response_array):\n",
    "\n",
    "    # Initialize an empty list to store the event data\n",
    "    xg_data = []\n",
    "\n",
    "    items = await fetch_event_data(['https://api.sofascore.com/api/v1/event/' + str(response['event']['id']) + '/statistics' for response in response_array])\n",
    "\n",
    "    # Iterate over each response and item together.\n",
    "    for response, item in zip(response_array, items):\n",
    "\n",
    "        struct = {\n",
    "            'tournament' : response['event']['tournament']['name'],  # Name of the tournament\n",
    "            'region' : response['event']['tournament']['category']['name'],  # Region of the tournament\n",
    "            'home_team' : response['event']['homeTeam']['name'],  # Name of the home team\n",
    "            'away_team' : response['event']['awayTeam']['name'],  # Name of the away team\n",
    "            'home_score': response['event']['homeScore']['current'],  # Current score of the home team\n",
    "            'away_score': response['event']['awayScore']['current'],  # Current score of the away team\n",
    "            'total'     : response['event']['homeScore']['current'] + response['event']['awayScore']['current'],  # Total score\n",
    "            'game_id' : response['event']['id'],\n",
    "            'home_team_expectation' : float(item['statistics'][0]['groups'][0]['statisticsItems'][0]['home']),\n",
    "            'away_team_expectation' : float(item['statistics'][0]['groups'][0]['statisticsItems'][0]['away'])\n",
    "        }\n",
    "\n",
    "        xg_data.append(struct)\n",
    "\n",
    "    return xg_data\n",
    "\n",
    "parsed_response = await extract_data_with_xg(individual_responses)\n",
    "\n",
    "# print(parsed_response)"
   ]
  },
  {
   "cell_type": "code",
   "execution_count": 22,
   "metadata": {},
   "outputs": [
    {
     "name": "stdout",
     "output_type": "stream",
     "text": [
      "{'tournament': 'Premier League', 'region': 'England', 'home_team': 'Newcastle United', 'away_team': 'Nottingham Forest', 'home_score': 1, 'away_score': 3, 'total': 4, 'game_id': 11352566, 'home_team_expectation': 2.43, 'away_team_expectation': 3.46}\n",
      "{'tournament': 'Premier League', 'region': 'England', 'home_team': 'Bournemouth', 'away_team': 'Fulham', 'home_score': 3, 'away_score': 0, 'total': 3, 'game_id': 11352541, 'home_team_expectation': 1.82, 'away_team_expectation': 0.28}\n",
      "{'tournament': 'Premier League', 'region': 'England', 'home_team': 'Sheffield United', 'away_team': 'Luton Town', 'home_score': 2, 'away_score': 3, 'total': 5, 'game_id': 11352569, 'home_team_expectation': 2.59, 'away_team_expectation': 0.63}\n",
      "{'tournament': 'Premier League', 'region': 'England', 'home_team': 'Burnley', 'away_team': 'Liverpool', 'home_score': 0, 'away_score': 2, 'total': 2, 'game_id': 11352554, 'home_team_expectation': 0.81, 'away_team_expectation': 1.82}\n",
      "{'tournament': 'Premier League', 'region': 'England', 'home_team': 'Manchester United', 'away_team': 'Aston Villa', 'home_score': 3, 'away_score': 2, 'total': 5, 'game_id': 11352563, 'home_team_expectation': 1.13, 'away_team_expectation': 1.66}\n"
     ]
    }
   ],
   "source": [
    "for x in parsed_response[:5]:\n",
    "    print(x)"
   ]
  },
  {
   "cell_type": "code",
   "execution_count": null,
   "metadata": {},
   "outputs": [],
   "source": [
    "def calculate_expectation_results(game_data, **kwargs):\n",
    "    \"\"\"\n",
    "    This function compares the games ending home, and away team scores\n",
    "    to SofaScores algorithmic prediction for both teams.\n",
    "\n",
    "    Parameters:\n",
    "    game_data (list): A list of dictionaries containing data about each event.\n",
    "    **kwargs: Additonal filters to apply on the data. \n",
    "    For Example: Testing to see how accurate their predictions are for specific regions\n",
    "    or teams etc.\n",
    "\n",
    "    Returns:\n",
    "    Float: The calculated winrate\n",
    "        or\n",
    "    Dictionary: If kwargs given, will return the calculated winrate and kwarg supplied\n",
    "    within in a dictionary.\n",
    "\n",
    "    \"\"\"\n",
    "\n",
    "    # Convert the event data into a pandas DataFrame\n",
    "    df = pd.DataFrame(game_data).drop_duplicates().reset_index(drop=True)\n",
    "\n",
    "    # If there are additional filters, create a query string.\n",
    "    query = ' & '.join([f\"{k} == '{v}'\" for k, v in kwargs.items()]) if kwargs else None\n",
    "\n",
    "    accuracy_test = df.query(f\"home_score == round(home_team_expectation) & away_score == round(away_team_expectation)\")\n",
    "    opposite_accuracy_test = df.query(f\"home_score != round(home_team_expectation) | away_score != round(away_team_expectation)\")\n",
    "\n",
    "    accuracy_result = df.query(accuracy_test)\n",
    "    opposite_result = df.query(opposite_accuracy_test)\n",
    "\n",
    "    winrate = round(accuracy_result.shape[0] / accuracy_result.shape[0] + opposite_result.shape[0], 3)\n",
    "\n",
    "    struct = {\n",
    "        'total_games' : accuracy_result.shape[0] + opposite_result.shape[0],\n",
    "        'accurate_prediction' : accuracy_result.shape[0],\n",
    "        'accuracy_ratio' : winrate\n",
    "    }\n",
    "\n",
    "    return struct\n",
    "\n",
    "\n",
    "data_results =  calculate_expectation_results(parsed_response)\n",
    "\n",
    "print(data_results)\n"
   ]
  },
  {
   "cell_type": "code",
   "execution_count": 12,
   "metadata": {},
   "outputs": [],
   "source": [
    "def calculate_winrate(event_data, threshold, **kwargs):\n",
    "    \"\"\"\n",
    "    Credit to: https://github.com/rushcapital\n",
    "    This function calculates the winrate of the events based on a given threshold.\n",
    "    Parameters:\n",
    "    event_data (list): A list of dictionaries containing event data.\n",
    "    threshold (float): The threshold value to calculate the winrate.\n",
    "    **kwargs: Additional filters to apply on the data.\n",
    "\n",
    "    Returns:\n",
    "    float: The calculated winrate.\n",
    "    \"\"\"\n",
    "\n",
    "    # Convert the event data into a pandas DataFrame\n",
    "    df = pd.DataFrame(event_data).drop_duplicates().reset_index(drop=True)\n",
    "    \n",
    "    # If there are additional filters, create a query string\n",
    "    query = ' & '.join([f\"{k} == '{v}'\" for k, v in kwargs.items()]) if kwargs else None\n",
    "    \n",
    "    # Create the under and over queries based on the threshold and additional filters\n",
    "    # The under query selects events where the total score is less than the threshold\n",
    "    under_query = f\"{query} & total < {threshold}\" if query else f'total < {threshold}'\n",
    "    \n",
    "    # The over query selects events where the total score is more than the threshold\n",
    "    over_query = f\"{query} & total > {threshold}\" if query else f'total > {threshold}'\n",
    "    \n",
    "    # Apply the under and over queries to the DataFrame\n",
    "    under = df.query(under_query)\n",
    "    over = df.query(over_query)\n",
    "    \n",
    "    # Calculate the winrate as the ratio of under events to the total number of events\n",
    "    # If there are no events, the winrate is 0\n",
    "    winrate = round(under.shape[0] / (under.shape[0] + over.shape[0]),3) if (under.shape[0] + over.shape[0]) != 0 else 0\n",
    "    \n",
    "    struct = {\n",
    "        'total_games' : under.shape[0] + over.shape[0],\n",
    "        'under_wins' : under.shape[0],\n",
    "        'under_winrate' : winrate\n",
    "    }\n",
    "\n",
    "    return struct\n"
   ]
  },
  {
   "cell_type": "code",
   "execution_count": 13,
   "metadata": {},
   "outputs": [
    {
     "name": "stdout",
     "output_type": "stream",
     "text": [
      "{'total_games': 3155, 'under_wins': 2158, 'under_winrate': 0.684}\n"
     ]
    }
   ],
   "source": [
    "winrate_england_struct = calculate_winrate(event_data, threshold=3.5, region='England')\n",
    "\n",
    "\n",
    "print(winrate_england_struct)\n"
   ]
  },
  {
   "cell_type": "code",
   "execution_count": 14,
   "metadata": {},
   "outputs": [
    {
     "data": {
      "image/png": "[encoded data removed]",
      "text/plain": [
       "<Figure size 640x480 with 1 Axes>"
      ]
     },
     "metadata": {},
     "output_type": "display_data"
    }
   ],
   "source": [
    "# winrate_struct = calculate_winrate(event_data, threshold=3.5)\n",
    "import pandas as pd\n",
    "\n",
    "winrate_england_struct = calculate_winrate(event_data, threshold=3.5, region='England')\n",
    "winrate_spain_struct = calculate_winrate(event_data, threshold=3.5, region='Spain')\n",
    "winrate_italy_struct = calculate_winrate(event_data, threshold=3.5, region='Italy')\n",
    "winrate_belgium_struct = calculate_winrate(event_data, threshold=3.5, region='Belgium')\n",
    "winrate_greece_struct = calculate_winrate(event_data, threshold=3.5, region='Greece')\n",
    "\n",
    "Data = pd.DataFrame([winrate_england_struct, winrate_spain_struct, winrate_italy_struct, winrate_belgium_struct, winrate_greece_struct])\n",
    "\n",
    "import matplotlib.pyplot as plt\n",
    "\n",
    "regions = ['England', 'Spain', 'Italy', 'Belgium', 'Greece']\n",
    "winrates = Data['under_winrate']\n",
    "x = range(len(regions))\n",
    "plt.bar(regions, winrates)\n",
    "plt.title('Under 3.5 Winrates by Region')\n",
    "plt.xlabel('Region')\n",
    "plt.ylabel('winrate %')\n",
    "plt.show()\n",
    "\n",
    "\n"
   ]
  },
  {
   "cell_type": "code",
   "execution_count": 15,
   "metadata": {},
   "outputs": [],
   "source": [
    "\n",
    "\n",
    "# function to extract all regions\n",
    "\n",
    "def extract_regions(response_array):\n",
    "\n",
    "    unique_regions = []\n",
    "\n",
    "    # Iterate over the response_array. (This should be event_data)\n",
    "\n",
    "    for data in response_array:\n",
    "        region = data['region']\n",
    "\n",
    "        # If the Region exists in the unique_regions list, skip over it, else, append it.\n",
    "        if region in unique_regions:\n",
    "            continue\n",
    "        else:\n",
    "            unique_regions.append(region)\n",
    "\n",
    "    # Return the list.\n",
    "    return unique_regions\n",
    "\n",
    "# Call to store the unique list of regions\n",
    "list_of_regions = extract_regions(event_data)\n",
    "\n",
    "\n"
   ]
  }
 ],
 "metadata": {
  "kernelspec": {
   "display_name": "Python 3",
   "language": "python",
   "name": "python3"
  },
  "language_info": {
   "codemirror_mode": {
    "name": "ipython",
    "version": 3
   },
   "file_extension": ".py",
   "mimetype": "text/x-python",
   "name": "python",
   "nbconvert_exporter": "python",
   "pygments_lexer": "ipython3",
   "version": "3.11.7"
  }
 },
 "nbformat": 4,
 "nbformat_minor": 2
}
